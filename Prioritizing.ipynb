{
  "nbformat": 4,
  "nbformat_minor": 0,
  "metadata": {
    "colab": {
      "provenance": []
    },
    "kernelspec": {
      "name": "python3",
      "display_name": "Python 3"
    },
    "language_info": {
      "name": "python"
    }
  },
  "cells": [
    {
      "cell_type": "code",
      "execution_count": null,
      "metadata": {
        "colab": {
          "base_uri": "https://localhost:8080/"
        },
        "id": "7AMIk00uxeGn",
        "outputId": "9878d809-d049-437f-84f2-d7220d93ec18"
      },
      "outputs": [
        {
          "output_type": "stream",
          "name": "stdout",
          "text": [
            "                                               Email  \\\n",
            "0  The server is down and needs immediate attention!   \n",
            "1  I have a query regarding the invoice sent last...   \n",
            "2  Please escalate this issue to the IT departmen...   \n",
            "3   We received great feedback on the recent update.   \n",
            "4  The deadline for project submission is next week.   \n",
            "\n",
            "                     Category Sentiment  \n",
            "0  High Urgency - High Impact   Neutral  \n",
            "1    Low Urgency - Low Impact   Neutral  \n",
            "2  High Urgency - High Impact   Neutral  \n",
            "3    Low Urgency - Low Impact   Neutral  \n",
            "4   Low Urgency - High Impact   Neutral  \n"
          ]
        }
      ],
      "source": [
        "import pandas as pd\n",
        "from textblob import TextBlob\n",
        "\n",
        "# Define categories and keywords for prioritization\n",
        "CATEGORIES = {\n",
        "    \"High Urgency - High Impact\": [\"urgent\", \"critical\", \"immediate\", \"escalate\"],\n",
        "    \"High Urgency - Low Impact\": [\"error\", \"issue\", \"failure\"],\n",
        "    \"Low Urgency - High Impact\": [\"request\", \"important\", \"deadline\"],\n",
        "    \"Low Urgency - Low Impact\": [\"feedback\", \"suggestion\", \"query\"],\n",
        "}\n",
        "\n",
        "# Function to categorize emails based on keywords\n",
        "def categorize_email(email):\n",
        "    email = email.lower()\n",
        "    for category, keywords in CATEGORIES.items():\n",
        "        if any(keyword in email for keyword in keywords):\n",
        "            return category\n",
        "    return \"Uncategorized\"\n",
        "\n",
        "# Sentiment analysis to refine categorization\n",
        "def analyze_sentiment(email):\n",
        "    sentiment = TextBlob(email).sentiment.polarity\n",
        "    if sentiment < -0.5:\n",
        "        return \"Negative\"\n",
        "    elif sentiment > 0.5:\n",
        "        return \"Positive\"\n",
        "    else:\n",
        "        return \"Neutral\"\n",
        "\n",
        "# Function to tag and prioritize emails\n",
        "def prioritize_emails(emails):\n",
        "    results = []\n",
        "    for email in emails:\n",
        "        category = categorize_email(email)\n",
        "        sentiment = analyze_sentiment(email)\n",
        "        results.append({\"Email\": email, \"Category\": category, \"Sentiment\": sentiment})\n",
        "    return pd.DataFrame(results)\n",
        "\n",
        "# Example email data\n",
        "emails = [\n",
        "    \"The server is down and needs immediate attention!\",\n",
        "    \"I have a query regarding the invoice sent last week.\",\n",
        "    \"Please escalate this issue to the IT department immediately.\",\n",
        "    \"We received great feedback on the recent update.\",\n",
        "    \"The deadline for project submission is next week.\"\n",
        "]\n",
        "\n",
        "# Process the emails and display results\n",
        "if __name__ == \"__main__\":\n",
        "    prioritized_emails = prioritize_emails(emails)\n",
        "    print(prioritized_emails)\n"
      ]
    }
  ]
}